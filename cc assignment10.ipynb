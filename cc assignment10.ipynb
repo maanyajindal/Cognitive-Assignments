{
 "cells": [
  {
   "cell_type": "code",
   "execution_count": 1,
   "id": "b9ba3541-ca11-4d40-8960-f606f0eb5125",
   "metadata": {},
   "outputs": [
    {
     "name": "stderr",
     "output_type": "stream",
     "text": [
      "[nltk_data] Downloading package punkt to\n",
      "[nltk_data]     C:\\Users\\Dell\\AppData\\Roaming\\nltk_data...\n",
      "[nltk_data]   Package punkt is already up-to-date!\n",
      "[nltk_data] Downloading package stopwords to\n",
      "[nltk_data]     C:\\Users\\Dell\\AppData\\Roaming\\nltk_data...\n",
      "[nltk_data]   Package stopwords is already up-to-date!\n",
      "[nltk_data] Downloading package punkt_tab to\n",
      "[nltk_data]     C:\\Users\\Dell\\AppData\\Roaming\\nltk_data...\n",
      "[nltk_data]   Package punkt_tab is already up-to-date!\n"
     ]
    },
    {
     "data": {
      "text/plain": [
       "True"
      ]
     },
     "execution_count": 1,
     "metadata": {},
     "output_type": "execute_result"
    }
   ],
   "source": [
    "\n",
    "import re\n",
    "import nltk\n",
    "from nltk.tokenize import word_tokenize, sent_tokenize\n",
    "from nltk.corpus import stopwords\n",
    "from nltk.probability import FreqDist\n",
    "\n",
    "nltk.download('punkt')\n",
    "nltk.download('stopwords')\n",
    "nltk.download('punkt_tab')"
   ]
  },
  {
   "cell_type": "code",
   "execution_count": 7,
   "id": "b7b2e231-badc-4505-b3b4-085f2dfd0deb",
   "metadata": {},
   "outputs": [
    {
     "name": "stdout",
     "output_type": "stream",
     "text": [
      "basketball is my favorite sportits more than just a game to me its my escape my peace and my passion\n",
      "every time i step onto the court all my worries fade away and the world just feels right\n",
      "it teaches me patience discipline and how to rise after every fall\n"
     ]
    }
   ],
   "source": [
    "text = \"\"\"Basketball is my favorite sport—it’s more than just a game to me; it’s my escape, my peace, and my passion.\n",
    "Every time I step onto the court, all my worries fade away, and the world just feels right.\n",
    "It teaches me patience, discipline, and how to rise after every fall.\"\"\"\n",
    "\n",
    "text_cleaned = re.sub(r'[^\\w\\s]', '', text.lower())\n",
    "print(text_cleaned )\n"
   ]
  },
  {
   "cell_type": "code",
   "execution_count": 9,
   "id": "a5aae9f0-55a4-439e-988e-5159f1c83735",
   "metadata": {},
   "outputs": [
    {
     "name": "stdout",
     "output_type": "stream",
     "text": [
      "['basketball', 'is', 'my', 'favorite', 'sportits', 'more', 'than', 'just', 'a', 'game', 'to', 'me', 'its', 'my', 'escape', 'my', 'peace', 'and', 'my', 'passion', 'every', 'time', 'i', 'step', 'onto', 'the', 'court', 'all', 'my', 'worries', 'fade', 'away', 'and', 'the', 'world', 'just', 'feels', 'right', 'it', 'teaches', 'me', 'patience', 'discipline', 'and', 'how', 'to', 'rise', 'after', 'every', 'fall']\n",
      "['Basketball is my favorite sport—it’s more than just a game to me; it’s my escape, my peace, and my passion.', 'Every time I step onto the court, all my worries fade away, and the world just feels right.', 'It teaches me patience, discipline, and how to rise after every fall.']\n"
     ]
    }
   ],
   "source": [
    "word_tokens = word_tokenize(text_cleaned)\n",
    "sent_tokens = sent_tokenize(text)\n",
    "print(word_tokens)\n",
    "print(sent_tokens)"
   ]
  },
  {
   "cell_type": "code",
   "execution_count": 13,
   "id": "bc52111d-72d8-4142-ab26-21bbce66b4de",
   "metadata": {},
   "outputs": [
    {
     "name": "stdout",
     "output_type": "stream",
     "text": [
      "['basketball', 'is', 'my', 'favorite', 'sportits', 'more', 'than', 'just', 'a', 'game', 'to', 'me', 'its', 'my', 'escape', 'my', 'peace', 'and', 'my', 'passion', 'every', 'time', 'i', 'step', 'onto', 'the', 'court', 'all', 'my', 'worries', 'fade', 'away', 'and', 'the', 'world', 'just', 'feels', 'right', 'it', 'teaches', 'me', 'patience', 'discipline', 'and', 'how', 'to', 'rise', 'after', 'every', 'fall']\n"
     ]
    }
   ],
   "source": [
    "split_tokens = text_cleaned.split()\n",
    "print(split_tokens)"
   ]
  },
  {
   "cell_type": "code",
   "execution_count": 15,
   "id": "68259588-1b12-4c9e-903a-3aee2133b799",
   "metadata": {},
   "outputs": [
    {
     "name": "stdout",
     "output_type": "stream",
     "text": [
      "['a', 'about', 'above', 'after', 'again', 'against', 'ain', 'all', 'am', 'an', 'and', 'any', 'are', 'aren', \"aren't\", 'as', 'at', 'be', 'because', 'been', 'before', 'being', 'below', 'between', 'both', 'but', 'by', 'can', 'couldn', \"couldn't\", 'd', 'did', 'didn', \"didn't\", 'do', 'does', 'doesn', \"doesn't\", 'doing', 'don', \"don't\", 'down', 'during', 'each', 'few', 'for', 'from', 'further', 'had', 'hadn', \"hadn't\", 'has', 'hasn', \"hasn't\", 'have', 'haven', \"haven't\", 'having', 'he', \"he'd\", \"he'll\", 'her', 'here', 'hers', 'herself', \"he's\", 'him', 'himself', 'his', 'how', 'i', \"i'd\", 'if', \"i'll\", \"i'm\", 'in', 'into', 'is', 'isn', \"isn't\", 'it', \"it'd\", \"it'll\", \"it's\", 'its', 'itself', \"i've\", 'just', 'll', 'm', 'ma', 'me', 'mightn', \"mightn't\", 'more', 'most', 'mustn', \"mustn't\", 'my', 'myself', 'needn', \"needn't\", 'no', 'nor', 'not', 'now', 'o', 'of', 'off', 'on', 'once', 'only', 'or', 'other', 'our', 'ours', 'ourselves', 'out', 'over', 'own', 're', 's', 'same', 'shan', \"shan't\", 'she', \"she'd\", \"she'll\", \"she's\", 'should', 'shouldn', \"shouldn't\", \"should've\", 'so', 'some', 'such', 't', 'than', 'that', \"that'll\", 'the', 'their', 'theirs', 'them', 'themselves', 'then', 'there', 'these', 'they', \"they'd\", \"they'll\", \"they're\", \"they've\", 'this', 'those', 'through', 'to', 'too', 'under', 'until', 'up', 've', 'very', 'was', 'wasn', \"wasn't\", 'we', \"we'd\", \"we'll\", \"we're\", 'were', 'weren', \"weren't\", \"we've\", 'what', 'when', 'where', 'which', 'while', 'who', 'whom', 'why', 'will', 'with', 'won', \"won't\", 'wouldn', \"wouldn't\", 'y', 'you', \"you'd\", \"you'll\", 'your', \"you're\", 'yours', 'yourself', 'yourselves', \"you've\"]\n",
      "['basketball', 'favorite', 'sportits', 'game', 'escape', 'peace', 'passion', 'every', 'time', 'step', 'onto', 'court', 'worries', 'fade', 'away', 'world', 'feels', 'right', 'teaches', 'patience', 'discipline', 'rise', 'every', 'fall']\n"
     ]
    }
   ],
   "source": [
    "stop_words = stopwords.words('english')\n",
    "print(stop_words)\n",
    "filtered_words = [w for w in word_tokens if w not in stop_words]\n",
    "print(filtered_words)"
   ]
  },
  {
   "cell_type": "code",
   "execution_count": 17,
   "id": "80e33dcf-4e96-4266-b1b3-b582c18386a2",
   "metadata": {},
   "outputs": [
    {
     "data": {
      "text/plain": [
       "<Axes: title={'center': 'Top 10 words'}, xlabel='Samples', ylabel='Counts'>"
      ]
     },
     "execution_count": 17,
     "metadata": {},
     "output_type": "execute_result"
    },
    {
     "data": {
      "image/png": "[encoded data removed]",
      "text/plain": [
       "<Figure size 640x480 with 1 Axes>"
      ]
     },
     "metadata": {},
     "output_type": "display_data"
    }
   ],
   "source": [
    "\n",
    "fd = FreqDist(filtered_words)\n",
    "fd.plot(10, title = 'Top 10 words')"
   ]
  },
  {
   "cell_type": "code",
   "execution_count": 19,
   "id": "84f5e095-ed7a-41d5-9d2e-f074f40fef99",
   "metadata": {},
   "outputs": [
    {
     "name": "stderr",
     "output_type": "stream",
     "text": [
      "[nltk_data] Downloading package wordnet to\n",
      "[nltk_data]     C:\\Users\\Dell\\AppData\\Roaming\\nltk_data...\n",
      "[nltk_data]   Package wordnet is already up-to-date!\n",
      "[nltk_data] Downloading package omw-1.4 to\n",
      "[nltk_data]     C:\\Users\\Dell\\AppData\\Roaming\\nltk_data...\n"
     ]
    },
    {
     "data": {
      "text/plain": [
       "True"
      ]
     },
     "execution_count": 19,
     "metadata": {},
     "output_type": "execute_result"
    }
   ],
   "source": [
    "from nltk.stem import PorterStemmer, WordNetLemmatizer\n",
    "nltk.download('wordnet')\n",
    "nltk.download('omw-1.4')"
   ]
  },
  {
   "cell_type": "code",
   "execution_count": 21,
   "id": "c1957d87-f1ca-4721-a379-3d4d8cd20875",
   "metadata": {},
   "outputs": [
    {
     "name": "stdout",
     "output_type": "stream",
     "text": [
      "['basketball', 'favorite', 'sport', 'game', 'escape', 'peace', 'passion', 'every', 'time', 'step', 'onto', 'court', 'worries', 'fade', 'away', 'world', 'feels', 'right', 'teaches', 'patience', 'discipline', 'rise', 'every', 'fall']\n"
     ]
    }
   ],
   "source": [
    "alpha_words = re.findall(r'\\b[a-zA-Z]+\\b', text.lower())\n",
    "filtered_words_alphabet = [w for w in alpha_words if w not in stop_words] \n",
    "print(filtered_words_alphabet)"
   ]
  },
  {
   "cell_type": "code",
   "execution_count": 23,
   "id": "4cfbb517-7179-4bd4-a456-7e328d420a6a",
   "metadata": {},
   "outputs": [
    {
     "name": "stdout",
     "output_type": "stream",
     "text": [
      "\n",
      "Stemmed Words:\n",
      " ['basketbal', 'favorit', 'sportit', 'game', 'escap', 'peac', 'passion', 'everi', 'time', 'step', 'onto', 'court', 'worri', 'fade', 'away', 'world', 'feel', 'right', 'teach', 'patienc', 'disciplin', 'rise', 'everi', 'fall']\n"
     ]
    }
   ],
   "source": [
    "porter = PorterStemmer()\n",
    "stemmed_words = [porter.stem(word) for word in filtered_words]\n",
    "print(\"\\nStemmed Words:\\n\", stemmed_words)"
   ]
  },
  {
   "cell_type": "code",
   "execution_count": 25,
   "id": "c306a06d-81e1-4daa-8eb5-4f3703aed3cd",
   "metadata": {},
   "outputs": [
    {
     "name": "stdout",
     "output_type": "stream",
     "text": [
      "\n",
      "Lemmatized Words:\n",
      " ['basketball', 'favorite', 'sportits', 'game', 'escape', 'peace', 'passion', 'every', 'time', 'step', 'onto', 'court', 'worry', 'fade', 'away', 'world', 'feel', 'right', 'teach', 'patience', 'discipline', 'rise', 'every', 'fall']\n"
     ]
    }
   ],
   "source": [
    "lemmatizer = WordNetLemmatizer()\n",
    "lemmatized_words = [lemmatizer.lemmatize(word) for word in filtered_words]\n",
    "print(\"\\nLemmatized Words:\\n\", lemmatized_words)"
   ]
  },
  {
   "cell_type": "code",
   "execution_count": 27,
   "id": "92e91d62-724a-4741-a4d7-d0d5930af8b1",
   "metadata": {},
   "outputs": [
    {
     "name": "stdout",
     "output_type": "stream",
     "text": [
      "basketball | basketbal | basketball\n",
      "favorite | favorit | favorite\n",
      "sportits | sportit | sportits\n",
      "game | game | game\n",
      "escape | escap | escape\n",
      "peace | peac | peace\n",
      "passion | passion | passion\n",
      "every | everi | every\n",
      "time | time | time\n",
      "step | step | step\n",
      "onto | onto | onto\n",
      "court | court | court\n",
      "worries | worri | worry\n",
      "fade | fade | fade\n",
      "away | away | away\n",
      "world | world | world\n",
      "feels | feel | feel\n",
      "right | right | right\n",
      "teaches | teach | teach\n",
      "patience | patienc | patience\n",
      "discipline | disciplin | discipline\n",
      "rise | rise | rise\n",
      "every | everi | every\n",
      "fall | fall | fall\n"
     ]
    }
   ],
   "source": [
    "for original, stemmed, lemmatized in zip(filtered_words, stemmed_words, lemmatized_words):\n",
    "    print(f\"{original} | {stemmed} | {lemmatized}\")"
   ]
  },
  {
   "cell_type": "code",
   "execution_count": 3,
   "id": "01bb2242-bb5c-47cf-b48f-35c9549b8cb2",
   "metadata": {},
   "outputs": [],
   "source": [
    "from sklearn.feature_extraction.text import CountVectorizer, TfidfVectorizer\n",
    "import numpy as np\n",
    "\n",
    "texts = [\n",
    "    \"Delhi govt raises minimum wages for skilled and unskilled workers\",\n",
    "    \"IIT-Bombay graduate launches free website to make ancient Sanskrit literature accessible to all\",\n",
    "    \"Delivery was fast, but the packaging was damaged.\"\n",
    "]"
   ]
  },
  {
   "cell_type": "code",
   "execution_count": 5,
   "id": "29662b54-54ac-4eb6-99fb-bec3942bd739",
   "metadata": {},
   "outputs": [
    {
     "name": "stdout",
     "output_type": "stream",
     "text": [
      "[[0 0 0 1 0 0 0 1 0 0 1 0 1 0 0 0 0 0 1 0 1 0 1 0 0 1 1 0 0 1]\n",
      " [1 1 1 0 1 0 0 0 0 0 0 1 0 1 1 1 1 1 0 0 0 1 0 0 2 0 0 0 1 0]\n",
      " [0 0 0 0 0 1 1 0 1 1 0 0 0 0 0 0 0 0 0 1 0 0 0 1 0 0 0 2 0 0]]\n",
      "['accessible' 'all' 'ancient' 'and' 'bombay' 'but' 'damaged' 'delhi'\n",
      " 'delivery' 'fast' 'for' 'free' 'govt' 'graduate' 'iit' 'launches'\n",
      " 'literature' 'make' 'minimum' 'packaging' 'raises' 'sanskrit' 'skilled'\n",
      " 'the' 'to' 'unskilled' 'wages' 'was' 'website' 'workers']\n"
     ]
    }
   ],
   "source": [
    "cv = CountVectorizer()\n",
    "vector = cv.fit_transform(texts).toarray()\n",
    "print(vector)\n",
    "print(cv.get_feature_names_out())"
   ]
  },
  {
   "cell_type": "code",
   "execution_count": 10,
   "id": "7bc63cf0-9610-4c39-b98a-d7ac31f745c6",
   "metadata": {},
   "outputs": [],
   "source": [
    "tfidf = TfidfVectorizer()\n",
    "tfidf_fit = tfidf.fit_transform(texts)  \n",
    "tfidf_array = tfidf_fit.toarray()       \n",
    "features = tfidf.get_feature_names_out()"
   ]
  },
  {
   "cell_type": "code",
   "execution_count": 12,
   "id": "7539e8be-eb70-4555-9150-f0b1e0047fae",
   "metadata": {},
   "outputs": [
    {
     "name": "stdout",
     "output_type": "stream",
     "text": [
      "\n",
      "Text 1: Delhi govt raises minimum wages for skilled and unskilled workers\n",
      "Top Keywords: [('workers', 0.316), ('and', 0.316), ('for', 0.316)]\n",
      "\n",
      "Text 2: IIT-Bombay graduate launches free website to make ancient Sanskrit literature accessible to all\n",
      "Top Keywords: [('to', 0.5), ('iit', 0.25), ('make', 0.25)]\n",
      "\n",
      "Text 3: Delivery was fast, but the packaging was damaged.\n",
      "Top Keywords: [('was', 0.632), ('the', 0.316), ('but', 0.316)]\n"
     ]
    }
   ],
   "source": [
    "for i, row in enumerate(tfidf_array):\n",
    "    top_indices = row.argsort()[-3:][::-1]\n",
    "    top_keywords = [(features[j], round(row[j], 3)) for j in top_indices]\n",
    "    \n",
    "    print(f\"\\nText {i+1}: {texts[i]}\")\n",
    "    print(\"Top Keywords:\", top_keywords)"
   ]
  },
  {
   "cell_type": "code",
   "execution_count": 14,
   "id": "49b10988-b09f-4bd6-93fd-26e4d474bf00",
   "metadata": {},
   "outputs": [
    {
     "name": "stderr",
     "output_type": "stream",
     "text": [
      "[nltk_data] Downloading package punkt to\n",
      "[nltk_data]     C:\\Users\\Dell\\AppData\\Roaming\\nltk_data...\n",
      "[nltk_data]   Package punkt is already up-to-date!\n",
      "[nltk_data] Downloading package stopwords to\n",
      "[nltk_data]     C:\\Users\\Dell\\AppData\\Roaming\\nltk_data...\n",
      "[nltk_data]   Package stopwords is already up-to-date!\n"
     ]
    },
    {
     "data": {
      "text/plain": [
       "True"
      ]
     },
     "execution_count": 14,
     "metadata": {},
     "output_type": "execute_result"
    }
   ],
   "source": [
    "import re\n",
    "from nltk.corpus import stopwords\n",
    "from nltk.tokenize import word_tokenize\n",
    "import nltk\n",
    "nltk.download('punkt')\n",
    "nltk.download('stopwords')"
   ]
  },
  {
   "cell_type": "code",
   "execution_count": 16,
   "id": "44b10694-7011-445a-a1d1-82c9f39a43d1",
   "metadata": {},
   "outputs": [],
   "source": [
    "text1 = \"\"\"\n",
    "Artificial Intelligence (AI) is a branch of computer science that aims to create intelligent machines.\n",
    "AI systems can perform tasks like learning, reasoning, and problem-solving, mimicking human intelligence.\n",
    "It is widely used in healthcare, finance, autonomous vehicles, and more.\n",
    "\"\"\"\n",
    "\n",
    "text2 = \"\"\"\n",
    "Blockchain is a decentralized ledger technology used to securely record transactions.\n",
    "It underpins cryptocurrencies like Bitcoin.\n",
    "Blockchain ensures transparency, security, and immutability across distributed systems.\n",
    "\"\"\"\n"
   ]
  },
  {
   "cell_type": "code",
   "execution_count": 20,
   "id": "760851ce-45c2-4450-a881-b71e0e73763f",
   "metadata": {},
   "outputs": [],
   "source": [
    "text1 = text1.lower()\n",
    "text2 = text2.lower()\n",
    "text1_word_tokens = word_tokenize(text1)\n",
    "text2_word_tokens = word_tokenize(text2)\n",
    "filtered_words_text1 = [w for w in text1_word_tokens if w not in stopwords.words('english')]\n",
    "filtered_words_text2 = [w for w in text2_word_tokens if w not in stopwords.words('english')]"
   ]
  },
  {
   "cell_type": "code",
   "execution_count": 22,
   "id": "24ce614c-b601-455f-967a-191f0e373e25",
   "metadata": {},
   "outputs": [
    {
     "name": "stdout",
     "output_type": "stream",
     "text": [
      "Jaccard Similarity: 0.1111111111111111\n"
     ]
    }
   ],
   "source": [
    "set_text1 = set(filtered_words_text1)\n",
    "set_text2 = set(filtered_words_text2)\n",
    "jaccard = len(set_text1 & set_text2) / len(set_text1 | set_text2)\n",
    "print(\"Jaccard Similarity:\", jaccard)"
   ]
  },
  {
   "cell_type": "code",
   "execution_count": 24,
   "id": "d42e65e9-30dd-4fa4-aa64-e9476db8ba3e",
   "metadata": {},
   "outputs": [
    {
     "name": "stdout",
     "output_type": "stream",
     "text": [
      "Cosine Similarity: 0.0622\n"
     ]
    }
   ],
   "source": [
    "from sklearn.feature_extraction.text import TfidfVectorizer\n",
    "from sklearn.metrics.pairwise import cosine_similarity\n",
    "\n",
    "docs = [text1, text2]\n",
    "vectorizer = TfidfVectorizer(stop_words='english')\n",
    "tfidf_matrix = vectorizer.fit_transform(docs)\n",
    "\n",
    "cos_sim = cosine_similarity(tfidf_matrix[0:1], tfidf_matrix[1:2])\n",
    "print(f\"Cosine Similarity: {cos_sim[0][0]:.4f}\")\n"
   ]
  },
  {
   "cell_type": "code",
   "execution_count": 30,
   "id": "ef03cfec-8748-496b-a7d8-c19ed3270228",
   "metadata": {},
   "outputs": [
    {
     "name": "stdout",
     "output_type": "stream",
     "text": [
      "Collecting textblob\n",
      "  Downloading textblob-0.19.0-py3-none-any.whl.metadata (4.4 kB)\n",
      "Requirement already satisfied: nltk>=3.9 in c:\\users\\dell\\anaconda3\\lib\\site-packages (from textblob) (3.9.1)\n",
      "Requirement already satisfied: click in c:\\users\\dell\\anaconda3\\lib\\site-packages (from nltk>=3.9->textblob) (8.1.7)\n",
      "Requirement already satisfied: joblib in c:\\users\\dell\\anaconda3\\lib\\site-packages (from nltk>=3.9->textblob) (1.4.2)\n",
      "Requirement already satisfied: regex>=2021.8.3 in c:\\users\\dell\\anaconda3\\lib\\site-packages (from nltk>=3.9->textblob) (2024.9.11)\n",
      "Requirement already satisfied: tqdm in c:\\users\\dell\\anaconda3\\lib\\site-packages (from nltk>=3.9->textblob) (4.66.5)\n",
      "Requirement already satisfied: colorama in c:\\users\\dell\\anaconda3\\lib\\site-packages (from click->nltk>=3.9->textblob) (0.4.6)\n",
      "Downloading textblob-0.19.0-py3-none-any.whl (624 kB)\n",
      "   ---------------------------------------- 0.0/624.3 kB ? eta -:--:--\n",
      "   ---------------------------------------- 624.3/624.3 kB 7.9 MB/s eta 0:00:00\n",
      "Installing collected packages: textblob\n",
      "Successfully installed textblob-0.19.0\n"
     ]
    },
    {
     "name": "stderr",
     "output_type": "stream",
     "text": [
      "[nltk_data] Downloading package brown to\n",
      "[nltk_data]     C:\\Users\\Dell\\AppData\\Roaming\\nltk_data...\n",
      "[nltk_data]   Unzipping corpora\\brown.zip.\n",
      "[nltk_data] Downloading package punkt to\n",
      "[nltk_data]     C:\\Users\\Dell\\AppData\\Roaming\\nltk_data...\n",
      "[nltk_data]   Package punkt is already up-to-date!\n"
     ]
    }
   ],
   "source": [
    "!pip install textblob\n",
    "\n",
    "import nltk\n",
    "nltk.download('brown')\n",
    "nltk.download('punkt')\n",
    "from textblob import TextBlob\n",
    "\n",
    "\n",
    "\n"
   ]
  },
  {
   "cell_type": "code",
   "execution_count": 31,
   "id": "36b68a8e-923d-47b4-bbc3-d51827c48678",
   "metadata": {},
   "outputs": [
    {
     "name": "stdout",
     "output_type": "stream",
     "text": [
      "Polarity: 0.55\n",
      "Subjectivity: 0.69\n"
     ]
    }
   ],
   "source": [
    "review = \"The headphones have amazing sound quality and great battery life, but the build feels a bit cheap.\"\n",
    "\n",
    "blob = TextBlob(review)\n",
    "polarity = blob.sentiment.polarity\n",
    "subjectivity = blob.sentiment.subjectivity\n",
    "\n",
    "print(f\"Polarity: {polarity:.2f}\")\n",
    "print(f\"Subjectivity: {subjectivity:.2f}\")\n"
   ]
  },
  {
   "cell_type": "code",
   "execution_count": 34,
   "id": "d09a0d69-ffa8-41bb-a12d-86e947759604",
   "metadata": {},
   "outputs": [
    {
     "name": "stdout",
     "output_type": "stream",
     "text": [
      "Sentiment: Positive\n"
     ]
    }
   ],
   "source": [
    "if polarity > 0:\n",
    "    print(\"Sentiment: Positive\")\n",
    "elif polarity < 0:\n",
    "    print(\"Sentiment: Negative\")\n",
    "else:\n",
    "    print(\"Sentiment: Neutral\")"
   ]
  },
  {
   "cell_type": "code",
   "execution_count": 38,
   "id": "168d029f-6478-476d-b24c-0394fe5f9b3b",
   "metadata": {},
   "outputs": [
    {
     "name": "stdout",
     "output_type": "stream",
     "text": [
      "Collecting wordcloud\n",
      "  Downloading wordcloud-1.9.4-cp312-cp312-win_amd64.whl.metadata (3.5 kB)\n",
      "Requirement already satisfied: numpy>=1.6.1 in c:\\users\\dell\\anaconda3\\lib\\site-packages (from wordcloud) (1.26.4)\n",
      "Requirement already satisfied: pillow in c:\\users\\dell\\anaconda3\\lib\\site-packages (from wordcloud) (10.4.0)\n",
      "Requirement already satisfied: matplotlib in c:\\users\\dell\\anaconda3\\lib\\site-packages (from wordcloud) (3.9.2)\n",
      "Requirement already satisfied: contourpy>=1.0.1 in c:\\users\\dell\\anaconda3\\lib\\site-packages (from matplotlib->wordcloud) (1.2.0)\n",
      "Requirement already satisfied: cycler>=0.10 in c:\\users\\dell\\anaconda3\\lib\\site-packages (from matplotlib->wordcloud) (0.11.0)\n",
      "Requirement already satisfied: fonttools>=4.22.0 in c:\\users\\dell\\anaconda3\\lib\\site-packages (from matplotlib->wordcloud) (4.51.0)\n",
      "Requirement already satisfied: kiwisolver>=1.3.1 in c:\\users\\dell\\anaconda3\\lib\\site-packages (from matplotlib->wordcloud) (1.4.4)\n",
      "Requirement already satisfied: packaging>=20.0 in c:\\users\\dell\\anaconda3\\lib\\site-packages (from matplotlib->wordcloud) (24.1)\n",
      "Requirement already satisfied: pyparsing>=2.3.1 in c:\\users\\dell\\anaconda3\\lib\\site-packages (from matplotlib->wordcloud) (3.1.2)\n",
      "Requirement already satisfied: python-dateutil>=2.7 in c:\\users\\dell\\anaconda3\\lib\\site-packages (from matplotlib->wordcloud) (2.9.0.post0)\n",
      "Requirement already satisfied: six>=1.5 in c:\\users\\dell\\anaconda3\\lib\\site-packages (from python-dateutil>=2.7->matplotlib->wordcloud) (1.16.0)\n",
      "Downloading wordcloud-1.9.4-cp312-cp312-win_amd64.whl (301 kB)\n",
      "Installing collected packages: wordcloud\n",
      "Successfully installed wordcloud-1.9.4\n"
     ]
    },
    {
     "data": {
      "image/png": "[encoded data removed]",
      "text/plain": [
       "<Figure size 800x500 with 1 Axes>"
      ]
     },
     "metadata": {},
     "output_type": "display_data"
    }
   ],
   "source": [
    "!pip install wordcloud\n",
    "\n",
    "from wordcloud import WordCloud\n",
    "import matplotlib.pyplot as plt\n",
    "\n",
    "reviews = [\n",
    "    \"Amazing battery backup and sound quality!\",\n",
    "    \"Not satisfied with the mic quality.\",\n",
    "    \"Very comfortable and easy to use.\",\n",
    "    \"Too expensive for the features offered.\",\n",
    "]\n",
    "\n",
    "positive_reviews = []\n",
    "for r in reviews:\n",
    "    if TextBlob(r).sentiment.polarity > 0:\n",
    "        positive_reviews.append(r)\n",
    "\n",
    "positive_text = \" \".join(positive_reviews)\n",
    "\n",
    "wordcloud = WordCloud(width=600, height=400, background_color='white').generate(positive_text)\n",
    "\n",
    "# Plot\n",
    "plt.figure(figsize=(8, 5))\n",
    "plt.imshow(wordcloud, interpolation='bilinear')\n",
    "plt.axis('off')\n",
    "plt.title(\"Word Cloud of Positive Reviews\")\n",
    "plt.show()\n"
   ]
  },
  {
   "cell_type": "code",
   "execution_count": 44,
   "id": "358c805e-94dc-4128-8b87-09c69db70414",
   "metadata": {},
   "outputs": [
    {
     "name": "stdout",
     "output_type": "stream",
     "text": [
      "Requirement already satisfied: tensorflow in c:\\users\\dell\\anaconda3\\lib\\site-packages (2.19.0)\n",
      "Requirement already satisfied: absl-py>=1.0.0 in c:\\users\\dell\\anaconda3\\lib\\site-packages (from tensorflow) (2.1.0)\n",
      "Requirement already satisfied: astunparse>=1.6.0 in c:\\users\\dell\\anaconda3\\lib\\site-packages (from tensorflow) (1.6.3)\n",
      "Requirement already satisfied: flatbuffers>=24.3.25 in c:\\users\\dell\\anaconda3\\lib\\site-packages (from tensorflow) (25.2.10)\n",
      "Requirement already satisfied: gast!=0.5.0,!=0.5.1,!=0.5.2,>=0.2.1 in c:\\users\\dell\\anaconda3\\lib\\site-packages (from tensorflow) (0.6.0)\n",
      "Requirement already satisfied: google-pasta>=0.1.1 in c:\\users\\dell\\anaconda3\\lib\\site-packages (from tensorflow) (0.2.0)\n",
      "Requirement already satisfied: libclang>=13.0.0 in c:\\users\\dell\\anaconda3\\lib\\site-packages (from tensorflow) (18.1.1)\n",
      "Requirement already satisfied: opt-einsum>=2.3.2 in c:\\users\\dell\\anaconda3\\lib\\site-packages (from tensorflow) (3.4.0)\n",
      "Requirement already satisfied: packaging in c:\\users\\dell\\anaconda3\\lib\\site-packages (from tensorflow) (24.1)\n",
      "Requirement already satisfied: protobuf!=4.21.0,!=4.21.1,!=4.21.2,!=4.21.3,!=4.21.4,!=4.21.5,<6.0.0dev,>=3.20.3 in c:\\users\\dell\\anaconda3\\lib\\site-packages (from tensorflow) (4.25.3)\n",
      "Requirement already satisfied: requests<3,>=2.21.0 in c:\\users\\dell\\anaconda3\\lib\\site-packages (from tensorflow) (2.32.3)\n",
      "Requirement already satisfied: setuptools in c:\\users\\dell\\anaconda3\\lib\\site-packages (from tensorflow) (75.1.0)\n",
      "Requirement already satisfied: six>=1.12.0 in c:\\users\\dell\\anaconda3\\lib\\site-packages (from tensorflow) (1.16.0)\n",
      "Requirement already satisfied: termcolor>=1.1.0 in c:\\users\\dell\\anaconda3\\lib\\site-packages (from tensorflow) (2.5.0)\n",
      "Requirement already satisfied: typing-extensions>=3.6.6 in c:\\users\\dell\\anaconda3\\lib\\site-packages (from tensorflow) (4.11.0)\n",
      "Requirement already satisfied: wrapt>=1.11.0 in c:\\users\\dell\\anaconda3\\lib\\site-packages (from tensorflow) (1.14.1)\n",
      "Requirement already satisfied: grpcio<2.0,>=1.24.3 in c:\\users\\dell\\anaconda3\\lib\\site-packages (from tensorflow) (1.71.0)\n",
      "Requirement already satisfied: tensorboard~=2.19.0 in c:\\users\\dell\\anaconda3\\lib\\site-packages (from tensorflow) (2.19.0)\n",
      "Requirement already satisfied: keras>=3.5.0 in c:\\users\\dell\\anaconda3\\lib\\site-packages (from tensorflow) (3.9.0)\n",
      "Requirement already satisfied: numpy<2.2.0,>=1.26.0 in c:\\users\\dell\\anaconda3\\lib\\site-packages (from tensorflow) (1.26.4)\n",
      "Requirement already satisfied: h5py>=3.11.0 in c:\\users\\dell\\anaconda3\\lib\\site-packages (from tensorflow) (3.11.0)\n",
      "Requirement already satisfied: ml-dtypes<1.0.0,>=0.5.1 in c:\\users\\dell\\anaconda3\\lib\\site-packages (from tensorflow) (0.5.1)\n",
      "Requirement already satisfied: wheel<1.0,>=0.23.0 in c:\\users\\dell\\anaconda3\\lib\\site-packages (from astunparse>=1.6.0->tensorflow) (0.44.0)\n",
      "Requirement already satisfied: rich in c:\\users\\dell\\anaconda3\\lib\\site-packages (from keras>=3.5.0->tensorflow) (13.7.1)\n",
      "Requirement already satisfied: namex in c:\\users\\dell\\anaconda3\\lib\\site-packages (from keras>=3.5.0->tensorflow) (0.0.8)\n",
      "Requirement already satisfied: optree in c:\\users\\dell\\anaconda3\\lib\\site-packages (from keras>=3.5.0->tensorflow) (0.14.1)\n",
      "Requirement already satisfied: charset-normalizer<4,>=2 in c:\\users\\dell\\anaconda3\\lib\\site-packages (from requests<3,>=2.21.0->tensorflow) (3.3.2)\n",
      "Requirement already satisfied: idna<4,>=2.5 in c:\\users\\dell\\anaconda3\\lib\\site-packages (from requests<3,>=2.21.0->tensorflow) (3.7)\n",
      "Requirement already satisfied: urllib3<3,>=1.21.1 in c:\\users\\dell\\anaconda3\\lib\\site-packages (from requests<3,>=2.21.0->tensorflow) (2.2.3)\n",
      "Requirement already satisfied: certifi>=2017.4.17 in c:\\users\\dell\\anaconda3\\lib\\site-packages (from requests<3,>=2.21.0->tensorflow) (2025.1.31)\n",
      "Requirement already satisfied: markdown>=2.6.8 in c:\\users\\dell\\anaconda3\\lib\\site-packages (from tensorboard~=2.19.0->tensorflow) (3.4.1)\n",
      "Requirement already satisfied: tensorboard-data-server<0.8.0,>=0.7.0 in c:\\users\\dell\\anaconda3\\lib\\site-packages (from tensorboard~=2.19.0->tensorflow) (0.7.2)\n",
      "Requirement already satisfied: werkzeug>=1.0.1 in c:\\users\\dell\\anaconda3\\lib\\site-packages (from tensorboard~=2.19.0->tensorflow) (3.0.3)\n",
      "Requirement already satisfied: MarkupSafe>=2.1.1 in c:\\users\\dell\\anaconda3\\lib\\site-packages (from werkzeug>=1.0.1->tensorboard~=2.19.0->tensorflow) (2.1.3)\n",
      "Requirement already satisfied: markdown-it-py>=2.2.0 in c:\\users\\dell\\anaconda3\\lib\\site-packages (from rich->keras>=3.5.0->tensorflow) (2.2.0)\n",
      "Requirement already satisfied: pygments<3.0.0,>=2.13.0 in c:\\users\\dell\\anaconda3\\lib\\site-packages (from rich->keras>=3.5.0->tensorflow) (2.15.1)\n",
      "Requirement already satisfied: mdurl~=0.1 in c:\\users\\dell\\anaconda3\\lib\\site-packages (from markdown-it-py>=2.2.0->rich->keras>=3.5.0->tensorflow) (0.1.0)\n"
     ]
    }
   ],
   "source": [
    "\n",
    "\n",
    "!pip install tensorflow\n",
    "import numpy as np\n",
    "from tensorflow.keras.models import Sequential\n",
    "from tensorflow.keras.layers import LSTM, Dense, Embedding\n",
    "from tensorflow.keras.preprocessing.text import Tokenizer\n",
    "from tensorflow.keras.preprocessing.sequence import pad_sequences\n",
    "from tensorflow.keras.utils import to_categorical"
   ]
  },
  {
   "cell_type": "code",
   "execution_count": 46,
   "id": "c968fe9b-0b7c-4dd5-9b51-1554309efe84",
   "metadata": {},
   "outputs": [],
   "source": [
    "text = \"\"\"Basketball is my favorite sport—it’s more than just a game to me; it’s my escape, my peace, and my passion.\n",
    "Every time I step onto the court, all my worries fade away, and the world just feels right.\n",
    "It teaches me patience, discipline, and how to rise after every fall.\"\"\""
   ]
  },
  {
   "cell_type": "code",
   "execution_count": 48,
   "id": "b9eafd55-6800-4018-834c-bbba859f1112",
   "metadata": {},
   "outputs": [],
   "source": [
    "tokenizer = Tokenizer()\n",
    "tokenizer.fit_on_texts([text])\n",
    "total_words = len(tokenizer.word_index) + 1"
   ]
  },
  {
   "cell_type": "code",
   "execution_count": 50,
   "id": "f76ba88f-4a96-43af-85a5-d52dc636f233",
   "metadata": {},
   "outputs": [],
   "source": [
    "input_sequences = []\n",
    "for line in text.split('.'):\n",
    "    tokens = tokenizer.texts_to_sequences([line])[0]\n",
    "    for i in range(1, len(tokens)):\n",
    "        n_gram_sequence = tokens[:i+1]\n",
    "        input_sequences.append(n_gram_sequence)"
   ]
  },
  {
   "cell_type": "code",
   "execution_count": 52,
   "id": "bd783ff1-2e41-4db1-a181-b7719de58ae5",
   "metadata": {},
   "outputs": [],
   "source": [
    "# Pad sequences\n",
    "max_seq_len = max([len(x) for x in input_sequences])\n",
    "input_sequences = pad_sequences(input_sequences, maxlen=max_seq_len, padding='pre')"
   ]
  },
  {
   "cell_type": "code",
   "execution_count": 54,
   "id": "49a816ab-1129-4b2e-a6f9-12da72f52414",
   "metadata": {},
   "outputs": [],
   "source": [
    "# Split features and labels\n",
    "xs = input_sequences[:, :-1]\n",
    "labels = input_sequences[:, -1]\n",
    "\n",
    "from keras.utils import to_categorical\n",
    "ys = to_categorical(labels, num_classes=total_words)"
   ]
  },
  {
   "cell_type": "code",
   "execution_count": null,
   "id": "29b703d2-5534-49b8-aeca-36884f9f8f50",
   "metadata": {},
   "outputs": [
    {
     "name": "stderr",
     "output_type": "stream",
     "text": [
      "C:\\Users\\Dell\\anaconda3\\Lib\\site-packages\\keras\\src\\layers\\core\\embedding.py:90: UserWarning: Argument `input_length` is deprecated. Just remove it.\n",
      "  warnings.warn(\n"
     ]
    }
   ],
   "source": [
    "model = Sequential()\n",
    "model.add(Embedding(total_words, 10, input_length=max_seq_len-1))\n",
    "model.add(LSTM(100))\n",
    "model.add(Dense(total_words, activation='softmax'))\n",
    "\n",
    "model.compile(loss='categorical_crossentropy', optimizer='adam', metrics=['accuracy'])\n",
    "model.fit(xs, ys, epochs=300, verbose=0)  # train quietly\n",
    "print(\"✅ Model training complete.\")"
   ]
  },
  {
   "cell_type": "code",
   "execution_count": null,
   "id": "805190e0-d9dd-4431-9354-1f1223878410",
   "metadata": {},
   "outputs": [],
   "source": [
    "import random\n",
    "\n",
    "def generate_text(seed_text, next_words=10):\n",
    "    for _ in range(next_words):\n",
    "        token_list = tokenizer.texts_to_sequences([seed_text])[0]\n",
    "        token_list = pad_sequences([token_list], maxlen=max_seq_len-1, padding='pre')\n",
    "        predicted = model.predict(token_list, verbose=0)\n",
    "        predicted_word_index = np.argmax(predicted)\n",
    "        output_word = \"\"\n",
    "        for word, index in tokenizer.word_index.items():\n",
    "            if index == predicted_word_index:\n",
    "                output_word = word\n",
    "                break\n",
    "        seed_text += \" \" + output_word\n",
    "    return seed_text\n"
   ]
  },
  {
   "cell_type": "code",
   "execution_count": null,
   "id": "5eb8e91b-5a31-478c-afe1-06f1b3acb309",
   "metadata": {},
   "outputs": [],
   "source": []
  }
 ],
 "metadata": {
  "kernelspec": {
   "display_name": "Python [conda env:base] *",
   "language": "python",
   "name": "conda-base-py"
  },
  "language_info": {
   "codemirror_mode": {
    "name": "ipython",
    "version": 3
   },
   "file_extension": ".py",
   "mimetype": "text/x-python",
   "name": "python",
   "nbconvert_exporter": "python",
   "pygments_lexer": "ipython3",
   "version": "3.12.7"
  }
 },
 "nbformat": 4,
 "nbformat_minor": 5
}
