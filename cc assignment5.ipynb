{
 "cells": [
  {
   "cell_type": "code",
   "execution_count": 1,
   "id": "a4eff090-6ead-4622-9ee5-0ffd29fa79fe",
   "metadata": {},
   "outputs": [
    {
     "name": "stdout",
     "output_type": "stream",
     "text": [
      "45\n",
      "[[14]\n",
      " [16]\n",
      " [15]]\n",
      "[[20  9 16]]\n"
     ]
    }
   ],
   "source": [
    "import numpy as np\n",
    "gfg=np.matrix('[4, 1, 9; 12, 3, 1; 4, 5, 6]') \n",
    "allsum=np.sum(gfg)\n",
    "rowssum=np.sum(gfg,axis=1)\n",
    "colssum=np.sum(gfg,axis=0)\n",
    "print(allsum)\n",
    "print(rowssum)\n",
    "print(colssum)"
   ]
  },
  {
   "cell_type": "code",
   "execution_count": 3,
   "id": "da2f6115-aa14-4b49-9466-17da4edf9887",
   "metadata": {},
   "outputs": [
    {
     "name": "stdout",
     "output_type": "stream",
     "text": [
      "[ 10  16  16  52  54  62 453]\n",
      "[0 3 4 1 5 2 6]\n",
      "[10 16 16 52]\n",
      "[ 16  52  54  62 453]\n"
     ]
    }
   ],
   "source": [
    "import numpy as np    \n",
    "a = np.array([10, 52, 62, 16, 16, 54, 453]) \n",
    "sorted_array=np.sort(a)\n",
    "sorted_indices = np.argsort(a)\n",
    "smallest_4 = np.sort(a)[:4] \n",
    "largest_5 = np.sort(a)[-5:] \n",
    "print(sorted_array)\n",
    "print(sorted_indices)\n",
    "print(smallest_4)\n",
    "print(largest_5)"
   ]
  },
  {
   "cell_type": "code",
   "execution_count": 5,
   "id": "40f2fbdd-a0e2-4a2e-8206-84a4aa450dbf",
   "metadata": {},
   "outputs": [
    {
     "name": "stdout",
     "output_type": "stream",
     "text": [
      "[1. 2. 3. 2.]\n",
      "[1.2 2.2]\n"
     ]
    }
   ],
   "source": [
    "import numpy as np  \n",
    "array = np.array([1.0, 1.2, 2.2, 2.0, 3.0, 2.0])   \n",
    "integers = array[array == array.astype(int)]   \n",
    "floats = array[array != array.astype(int)]  \n",
    "print(integers)\n",
    "print(floats)"
   ]
  },
  {
   "cell_type": "code",
   "execution_count": 6,
   "id": "4d40c112-ef51-4300-a142-18fc6376b3a4",
   "metadata": {},
   "outputs": [
    {
     "name": "stdout",
     "output_type": "stream",
     "text": [
      "Sales dataset: [151 201 251 301 351]\n",
      "0.06\n",
      "[ 9.06 12.06 15.06 18.06 21.06]\n",
      "Discount Rate: [0.05 0.05 0.1  0.1  0.1 ]\n",
      "Discount Amount: [ 7.55 10.05 25.1  30.1  35.1 ]\n",
      "Adjusted Sales: [143.45 190.95 225.9  270.9  315.9 ]\n",
      "Initial Sales Matrix:\n",
      " [[151 201 251 301 351]\n",
      " [151 201 251 301 351]\n",
      " [151 201 251 301 351]]\n",
      "Sales Matrix after 2% Weekly Increase:\n",
      " [[151.   201.   251.   301.   351.  ]\n",
      " [154.02 205.02 256.02 307.02 358.02]\n",
      " [157.1  209.12 261.14 313.16 365.18]]\n"
     ]
    }
   ],
   "source": [
    "import numpy as np  \n",
    "X = ord('M') + ord('J')   \n",
    "sales = np.array([X, X+50, X+100, X+150, X+200])  \n",
    "print(\"Sales dataset:\", sales)  \n",
    "tax_rate = ((X % 5) + 5) / 100\n",
    "tax_amount = sales * tax_rate  \n",
    "print(tax_rate)\n",
    "print(tax_amount)\n",
    "discount_rate = np.where(sales < X+100, 0.05, 0.10)  \n",
    "discount_amount = sales * discount_rate\n",
    "adjusted_sales = sales - discount_amount\n",
    "\n",
    "\n",
    "print(\"Discount Rate:\", discount_rate)\n",
    "print(\"Discount Amount:\", discount_amount)\n",
    "print(\"Adjusted Sales:\", adjusted_sales)\n",
    "\n",
    "weeks = 3\n",
    "sales_matrix = np.tile(sales, (weeks, 1)) \n",
    "print(\"Initial Sales Matrix:\\n\", sales_matrix)\n",
    "\n",
    "weekly_multipliers = (1.02) ** np.arange(weeks).reshape(weeks, 1)  # [1, 1.02, 1.04]\n",
    "adjusted_sales_matrix = sales_matrix * weekly_multipliers\n",
    "print(\"Sales Matrix after 2% Weekly Increase:\\n\", np.round(adjusted_sales_matrix, 2))  "
   ]
  },
  {
   "cell_type": "code",
   "execution_count": null,
   "id": "e2890018-379c-438a-898d-681d8a149151",
   "metadata": {},
   "outputs": [],
   "source": []
  },
  {
   "cell_type": "code",
   "execution_count": null,
   "id": "036cb56e-0086-488c-ab67-ab2c48c24753",
   "metadata": {},
   "outputs": [],
   "source": []
  }
 ],
 "metadata": {
  "kernelspec": {
   "display_name": "Python [conda env:base] *",
   "language": "python",
   "name": "conda-base-py"
  },
  "language_info": {
   "codemirror_mode": {
    "name": "ipython",
    "version": 3
   },
   "file_extension": ".py",
   "mimetype": "text/x-python",
   "name": "python",
   "nbconvert_exporter": "python",
   "pygments_lexer": "ipython3",
   "version": "3.12.7"
  }
 },
 "nbformat": 4,
 "nbformat_minor": 5
}
