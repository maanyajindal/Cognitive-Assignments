{
 "cells": [
  {
   "cell_type": "code",
   "execution_count": 18,
   "id": "ee5f31ea-6d5a-4b9e-9eca-a9055c6c0704",
   "metadata": {},
   "outputs": [
    {
     "name": "stderr",
     "output_type": "stream",
     "text": [
      "[nltk_data] Downloading package punkt to\n",
      "[nltk_data]     C:\\Users\\Dell\\AppData\\Roaming\\nltk_data...\n",
      "[nltk_data]   Package punkt is already up-to-date!\n",
      "[nltk_data] Downloading package stopwords to\n",
      "[nltk_data]     C:\\Users\\Dell\\AppData\\Roaming\\nltk_data...\n",
      "[nltk_data]   Package stopwords is already up-to-date!\n",
      "[nltk_data] Downloading package punkt_tab to\n",
      "[nltk_data]     C:\\Users\\Dell\\AppData\\Roaming\\nltk_data...\n",
      "[nltk_data]   Unzipping tokenizers\\punkt_tab.zip.\n"
     ]
    },
    {
     "data": {
      "text/plain": [
       "True"
      ]
     },
     "execution_count": 18,
     "metadata": {},
     "output_type": "execute_result"
    }
   ],
   "source": [
    "import nltk\n",
    "import string\n",
    "from nltk.tokenize import word_tokenize, sent_tokenize\n",
    "from nltk.corpus import stopwords\n",
    "from nltk.probability import FreqDist\n",
    "\n",
    "nltk.download('punkt')\n",
    "nltk.download('stopwords')\n",
    "nltk.download('punkt_tab')\n"
   ]
  },
  {
   "cell_type": "code",
   "execution_count": 20,
   "id": "3628e39e-53a0-4c38-99e4-b47b20d8480e",
   "metadata": {},
   "outputs": [
    {
     "name": "stdout",
     "output_type": "stream",
     "text": [
      "basketball is my favorite sport—it’s more than just a game to me; it’s my escape, my peace, and my passion.\n",
      "every time i step onto the court, all my worries fade away, and the world just feels right.\n",
      "it teaches me patience, discipline, and how to rise after every fall.\n",
      "basketball is my favorite sport—it’s more than just a game to me it’s my escape my peace and my passion\n",
      "every time i step onto the court all my worries fade away and the world just feels right\n",
      "it teaches me patience discipline and how to rise after every fall\n"
     ]
    }
   ],
   "source": [
    "\n",
    "text = \"\"\"Basketball is my favorite sport—it’s more than just a game to me; it’s my escape, my peace, and my passion.\n",
    "Every time I step onto the court, all my worries fade away, and the world just feels right.\n",
    "It teaches me patience, discipline, and how to rise after every fall.\"\"\"\n",
    "\n",
    "text_l = text.lower()\n",
    "text_clean = text_l.translate(str.maketrans('', '', string.punctuation))\n",
    "print(text_l)\n",
    "print(text_clean)\n"
   ]
  },
  {
   "cell_type": "code",
   "execution_count": 24,
   "id": "9147fc6d-2729-46a7-8a89-ca5d3aa84780",
   "metadata": {},
   "outputs": [
    {
     "name": "stdout",
     "output_type": "stream",
     "text": [
      "['Basketball is my favorite sport—it’s more than just a game to me; it’s my escape, my peace, and my passion.', 'Every time I step onto the court, all my worries fade away, and the world just feels right.', 'It teaches me patience, discipline, and how to rise after every fall.']\n",
      "['basketball', 'is', 'my', 'favorite', 'sport—it', '’', 's', 'more', 'than', 'just', 'a', 'game', 'to', 'me', 'it', '’', 's', 'my', 'escape', 'my', 'peace', 'and', 'my', 'passion', 'every', 'time', 'i', 'step', 'onto', 'the', 'court', 'all', 'my', 'worries', 'fade', 'away', 'and', 'the', 'world', 'just', 'feels', 'right', 'it', 'teaches', 'me', 'patience', 'discipline', 'and', 'how', 'to', 'rise', 'after', 'every', 'fall']\n"
     ]
    }
   ],
   "source": [
    "\n",
    "sent_tokens = sent_tokenize(text)\n",
    "word_tokens = word_tokenize(text_clean)\n",
    "print(sent_tokens)\n",
    "print(word_tokens)"
   ]
  },
  {
   "cell_type": "code",
   "execution_count": 26,
   "id": "5c12954f-ed1e-446e-9a47-0124c110318d",
   "metadata": {},
   "outputs": [
    {
     "name": "stdout",
     "output_type": "stream",
     "text": [
      "['basketball', 'favorite', 'sport—it', '’', 'game', '’', 'escape', 'peace', 'passion', 'every', 'time', 'step', 'onto', 'court', 'worries', 'fade', 'away', 'world', 'feels', 'right', 'teaches', 'patience', 'discipline', 'rise', 'every', 'fall']\n"
     ]
    }
   ],
   "source": [
    "stop_words = set(stopwords.words('english'))\n",
    "filtered_words = [w for w in word_tokens if w not in stop_words] \n",
    "print(filtered_words)"
   ]
  },
  {
   "cell_type": "code",
   "execution_count": 28,
   "id": "c06d33fe-3158-4680-bcaf-bdd8db8dba83",
   "metadata": {},
   "outputs": [
    {
     "data": {
      "text/plain": [
       "<Axes: title={'center': 'Top Words'}, xlabel='Samples', ylabel='Counts'>"
      ]
     },
     "execution_count": 28,
     "metadata": {},
     "output_type": "execute_result"
    },
    {
     "data": {
      "image/png": "[encoded data removed]",
      "text/plain": [
       "<Figure size 640x480 with 1 Axes>"
      ]
     },
     "metadata": {},
     "output_type": "display_data"
    }
   ],
   "source": [
    "\n",
    "fd = FreqDist(filtered_words)\n",
    "fd.plot(10, title = 'Top Words') # plotting top 10 words"
   ]
  },
  {
   "cell_type": "code",
   "execution_count": 34,
   "id": "6bb71a75-3c8c-4fe6-97ec-6ca29c57ab82",
   "metadata": {},
   "outputs": [
    {
     "name": "stdout",
     "output_type": "stream",
     "text": [
      "Porter Stemmed Words:  ['basketbal', 'favorit', 'sport—it', '’', 'game', '’', 'escap', 'peac', 'passion', 'everi', 'time', 'step', 'onto', 'court', 'worri', 'fade', 'away', 'world', 'feel', 'right', 'teach', 'patienc', 'disciplin', 'rise', 'everi', 'fall']\n",
      "Lancaster Stemmed Words:  ['basketbal', 'favorit', 'sport—it', '’', 'gam', '’', 'escap', 'peac', 'pass', 'every', 'tim', 'step', 'onto', 'court', 'worry', 'fad', 'away', 'world', 'feel', 'right', 'teach', 'paty', 'disciplin', 'ris', 'every', 'fal']\n"
     ]
    },
    {
     "name": "stderr",
     "output_type": "stream",
     "text": [
      "[nltk_data] Downloading package wordnet to\n",
      "[nltk_data]     C:\\Users\\Dell\\AppData\\Roaming\\nltk_data...\n",
      "[nltk_data]   Package wordnet is already up-to-date!\n"
     ]
    }
   ],
   "source": [
    "from nltk.stem import PorterStemmer, WordNetLemmatizer,LancasterStemmer\n",
    "nltk.download('wordnet')\n",
    "ps = PorterStemmer() \n",
    "ls = LancasterStemmer()\n",
    "porter_stemmed_words = []\n",
    "for word in filtered_words:\n",
    "    porter_stemmed_words.append(ps.stem(word))\n",
    "print('Porter Stemmed Words: ',porter_stemmed_words)\n",
    "\n",
    "ls = LancasterStemmer() \n",
    "lancaster_stemmed_words = []\n",
    "for word in filtered_words:\n",
    "    lancaster_stemmed_words.append(ls.stem(word))\n",
    "print('Lancaster Stemmed Words: ',lancaster_stemmed_words)"
   ]
  },
  {
   "cell_type": "code",
   "execution_count": 36,
   "id": "47501c20-94ae-42a5-9509-6d9a5305ba02",
   "metadata": {},
   "outputs": [
    {
     "name": "stdout",
     "output_type": "stream",
     "text": [
      "Lemmatized Words:  ['basketball', 'favorite', 'sport—it', '’', 'game', '’', 'escape', 'peace', 'passion', 'every', 'time', 'step', 'onto', 'court', 'worry', 'fade', 'away', 'world', 'feel', 'right', 'teach', 'patience', 'discipline', 'rise', 'every', 'fall']\n"
     ]
    }
   ],
   "source": [
    "lm = WordNetLemmatizer() \n",
    "lemmatized_words = []\n",
    "for word in filtered_words:\n",
    "    lemmatized_words.append(lm.lemmatize(word))\n",
    "print('Lemmatized Words: ',lemmatized_words)"
   ]
  },
  {
   "cell_type": "code",
   "execution_count": 38,
   "id": "e4b9650c-d062-4175-8671-75ae893fa000",
   "metadata": {},
   "outputs": [
    {
     "name": "stdout",
     "output_type": "stream",
     "text": [
      "basketball -> Stemmed: basketbal, Lemmatized: basketball\n",
      "favorite -> Stemmed: favorit, Lemmatized: favorite\n",
      "sport—it -> Stemmed: sport—it, Lemmatized: sport—it\n",
      "’ -> Stemmed: ’, Lemmatized: ’\n",
      "game -> Stemmed: game, Lemmatized: game\n",
      "’ -> Stemmed: ’, Lemmatized: ’\n",
      "escape -> Stemmed: escap, Lemmatized: escape\n",
      "peace -> Stemmed: peac, Lemmatized: peace\n",
      "passion -> Stemmed: passion, Lemmatized: passion\n",
      "every -> Stemmed: everi, Lemmatized: every\n",
      "time -> Stemmed: time, Lemmatized: time\n",
      "step -> Stemmed: step, Lemmatized: step\n",
      "onto -> Stemmed: onto, Lemmatized: onto\n",
      "court -> Stemmed: court, Lemmatized: court\n",
      "worries -> Stemmed: worri, Lemmatized: worry\n",
      "fade -> Stemmed: fade, Lemmatized: fade\n",
      "away -> Stemmed: away, Lemmatized: away\n",
      "world -> Stemmed: world, Lemmatized: world\n",
      "feels -> Stemmed: feel, Lemmatized: feel\n",
      "right -> Stemmed: right, Lemmatized: right\n",
      "teaches -> Stemmed: teach, Lemmatized: teach\n",
      "patience -> Stemmed: patienc, Lemmatized: patience\n",
      "discipline -> Stemmed: disciplin, Lemmatized: discipline\n",
      "rise -> Stemmed: rise, Lemmatized: rise\n",
      "every -> Stemmed: everi, Lemmatized: every\n",
      "fall -> Stemmed: fall, Lemmatized: fall\n"
     ]
    }
   ],
   "source": [
    "for word in filtered_words:\n",
    "    print(f\"{word} -> Stemmed: {ps.stem(word)}, Lemmatized: {lm.lemmatize(word)}\")"
   ]
  },
  {
   "cell_type": "code",
   "execution_count": 44,
   "id": "c6234cf2-d005-4d72-abc0-1618168177e7",
   "metadata": {},
   "outputs": [
    {
     "name": "stdout",
     "output_type": "stream",
     "text": [
      "['Basketball', 'favorite', 'escape', 'passion', 'worries', 'teaches', 'patience', 'discipline']\n"
     ]
    }
   ],
   "source": [
    "import re\n",
    "words_more_than_5 = re.findall(r'\\b[a-zA-Z]{6,}\\b', text)\n",
    "print(words_more_than_5 )"
   ]
  },
  {
   "cell_type": "code",
   "execution_count": 46,
   "id": "dea8af5c-5885-4fd5-9a23-ebbc51a0a90a",
   "metadata": {},
   "outputs": [
    {
     "name": "stdout",
     "output_type": "stream",
     "text": [
      "[]\n"
     ]
    }
   ],
   "source": [
    "numbers = re.findall(r'\\b\\d+\\b', text)\n",
    "print(numbers)"
   ]
  },
  {
   "cell_type": "code",
   "execution_count": 48,
   "id": "152423bc-464e-4229-934c-6c2d842e6566",
   "metadata": {},
   "outputs": [
    {
     "name": "stdout",
     "output_type": "stream",
     "text": [
      "['Basketball', 'Every', 'I', 'It']\n"
     ]
    }
   ],
   "source": [
    "capitalized_words = re.findall(r'\\b[A-Z][a-z]*\\b', text)\n",
    "print(capitalized_words)"
   ]
  },
  {
   "cell_type": "code",
   "execution_count": 50,
   "id": "f81cadb7-28cf-4021-9894-e72d81b3615b",
   "metadata": {},
   "outputs": [
    {
     "name": "stdout",
     "output_type": "stream",
     "text": [
      "['Basketball', 'is', 'my', 'favorite', 'sport', 'it', 's', 'more', 'than', 'just', 'a', 'game', 'to', 'me', 'it', 's', 'my', 'escape', 'my', 'peace', 'and', 'my', 'passion', 'Every', 'time', 'I', 'step', 'onto', 'the', 'court', 'all', 'my', 'worries', 'fade', 'away', 'and', 'the', 'world', 'just', 'feels', 'right', 'It', 'teaches', 'me', 'patience', 'discipline', 'and', 'how', 'to', 'rise', 'after', 'every', 'fall']\n",
      "['is', 'it', 'a', 'it', 'escape', 'and', 'Every', 'I', 'onto', 'all', 'away', 'and', 'It', 'and', 'after', 'every']\n"
     ]
    }
   ],
   "source": [
    "alphabetic_words = re.findall(r'\\b[a-zA-Z]+\\b', text)\n",
    "print(alphabetic_words)\n",
    "vowel_words = re.findall(r'\\b[aeiouAEIOU][a-zA-Z]*\\b', text)\n",
    "print(vowel_words )"
   ]
  },
  {
   "cell_type": "code",
   "execution_count": 52,
   "id": "257cdbd7-2ef8-4808-ab89-b25659bfa6b4",
   "metadata": {},
   "outputs": [
    {
     "name": "stdout",
     "output_type": "stream",
     "text": [
      "Custom Tokenized Words:\n",
      "['Basketball', 'is', 'my', 'favorite', 'sport', 'it', 's', 'more', 'than', 'just', 'a', 'game', 'to', 'me', 'it', 's', 'my', 'escape', 'my', 'peace', 'and', 'my', 'passion', 'Every', 'time', 'I', 'step', 'onto', 'the', 'court', 'all', 'my', 'worries', 'fade', 'away', 'and', 'the', 'world', 'just', 'feels', 'right', 'It', 'teaches', 'me', 'patience', 'discipline', 'and', 'how', 'to', 'rise', 'after', 'every', 'fall']\n"
     ]
    }
   ],
   "source": [
    "def custom_tokenizer(text):\n",
    "   \n",
    "    text = text.replace(\"–\", \"-\").replace(\"—\", \"-\").replace(\"−\", \"-\")\n",
    "   \n",
    "    pattern = r\"\\b(?:\\d+\\.\\d+|\\d+|[a-zA-Z]+(?:'[a-zA-Z]+)?|[a-zA-Z]+(?:-[a-zA-Z]+)+)\\b\"\n",
    "    \n",
    "    tokens = re.findall(pattern, text)\n",
    "    return tokens\n",
    "\n",
    "\n",
    "custom_tokens = custom_tokenizer(text)\n",
    "\n",
    "print(\"Custom Tokenized Words:\")\n",
    "print(custom_tokens)"
   ]
  },
  {
   "cell_type": "code",
   "execution_count": 86,
   "id": "f30a37b6-bd6b-4640-93e3-fe7416bae6ec",
   "metadata": {},
   "outputs": [],
   "source": [
    "text_new = \"\"\"\n",
    "Contact me at mjindal_be23@thapar.edu or visit https://www.example.com for details.\n",
    "You can also reach out via phone at 1234567890 .\n",
    "\"\"\"\n",
    "\n",
    "text_n =re.sub(r'\\bhttps?://\\S+\\b','<URL>', text_new)\n"
   ]
  },
  {
   "cell_type": "code",
   "execution_count": 88,
   "id": "5b1feab9-2328-4df9-a41a-7f1089a2615b",
   "metadata": {},
   "outputs": [],
   "source": [
    "text_ne = re.sub(r'\\S+@\\S+','<EMAIL>',text_n) "
   ]
  },
  {
   "cell_type": "code",
   "execution_count": 90,
   "id": "6eba65c6-a8b8-49b6-bdee-2f4d3fec8290",
   "metadata": {},
   "outputs": [
    {
     "name": "stdout",
     "output_type": "stream",
     "text": [
      "\n",
      "Contact me at <EMAIL> or visit <URL> for details.\n",
      "You can also reach out via phone at <PHONE> .\n",
      "\n"
     ]
    }
   ],
   "source": [
    "text_nee= re.sub(r'\\d{10}', '<PHONE>',text_ne) \n",
    "print(text_nee)"
   ]
  },
  {
   "cell_type": "code",
   "execution_count": null,
   "id": "793e9147-8ca0-47ce-b53b-d7df0b1876c8",
   "metadata": {},
   "outputs": [],
   "source": []
  }
 ],
 "metadata": {
  "kernelspec": {
   "display_name": "Python [conda env:base] *",
   "language": "python",
   "name": "conda-base-py"
  },
  "language_info": {
   "codemirror_mode": {
    "name": "ipython",
    "version": 3
   },
   "file_extension": ".py",
   "mimetype": "text/x-python",
   "name": "python",
   "nbconvert_exporter": "python",
   "pygments_lexer": "ipython3",
   "version": "3.12.7"
  }
 },
 "nbformat": 4,
 "nbformat_minor": 5
}
