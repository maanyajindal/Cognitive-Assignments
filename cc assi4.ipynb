{
 "cells": [
  {
   "cell_type": "code",
   "execution_count": 3,
   "id": "5ac84cf5-341e-4c82-8c51-4522988b5ae7",
   "metadata": {},
   "outputs": [
    {
     "name": "stdout",
     "output_type": "stream",
     "text": [
      "Original array: [10 20 30 40 50]\n",
      "[12 22 32 42 52]\n",
      "[ 30  60  90 120 150]\n",
      "[ 5. 10. 15. 20. 25.]\n"
     ]
    }
   ],
   "source": [
    "#1\n",
    "import numpy as np\n",
    "a= np.array([10, 20, 30, 40, 50])  \n",
    "print(\"Original array:\", a)\n",
    "added=a+2\n",
    "print(added)\n",
    "multi=a*3\n",
    "print(multi)\n",
    "divide=a/2\n",
    "print(divide)\n",
    "\n"
   ]
  },
  {
   "cell_type": "code",
   "execution_count": 5,
   "id": "bce90732-b07d-495c-ab28-2b9d2ba667d9",
   "metadata": {},
   "outputs": [
    {
     "name": "stdout",
     "output_type": "stream",
     "text": [
      "Reversed array: [5 4 6 3 2 1]\n"
     ]
    }
   ],
   "source": [
    "#2a\n",
    "import numpy as np\n",
    "arr = np.array([1, 2, 3, 6, 4, 5])\n",
    "reversed_arr = arr[::-1]  \n",
    "print(\"Reversed array:\", reversed_arr)\n"
   ]
  },
  {
   "cell_type": "code",
   "execution_count": 13,
   "id": "76a34698-9b67-489b-891a-f9ec9ce5d1c7",
   "metadata": {},
   "outputs": [
    {
     "name": "stdout",
     "output_type": "stream",
     "text": [
      "Most frequent value in x: 1\n",
      "Indices of the most frequent value in x: (array([0, 5, 7, 8, 9], dtype=int64),)\n"
     ]
    }
   ],
   "source": [
    "#2b\n",
    "x = np.array([1, 2, 3, 4, 5, 1, 2, 1, 1, 1])\n",
    "unique, counts = np.unique(x, return_counts=True)\n",
    "most_frequent = unique[np.argmax(counts)]\n",
    "indices_x = np.where(x == most_frequent)\n",
    "\n",
    "print(\"Most frequent value in x:\", most_frequent)\n",
    "print(\"Indices of the most frequent value in x:\", indices_x)"
   ]
  },
  {
   "cell_type": "code",
   "execution_count": 15,
   "id": "eb48bb80-974d-459e-a39c-ebd80d1c0ab4",
   "metadata": {},
   "outputs": [
    {
     "name": "stdout",
     "output_type": "stream",
     "text": [
      "Most frequent value in y: 1\n",
      "Indices of the most frequent value in y: (array([0, 1, 2], dtype=int64),)\n"
     ]
    }
   ],
   "source": [
    "#2b\n",
    "y = np.array([1, 1, 1, 2, 3, 4, 2, 4, 3, 3])\n",
    "u,c=np.unique(y,return_counts=True)\n",
    "f=unique[np.argmax(c)]\n",
    "indices_y= np.where(y == f)\n",
    "\n",
    "print(\"Most frequent value in y:\", f)\n",
    "print(\"Indices of the most frequent value in y:\", indices_y)\n"
   ]
  },
  {
   "cell_type": "code",
   "execution_count": 19,
   "id": "61373bed-a4df-4c19-8341-5b05a818e372",
   "metadata": {},
   "outputs": [
    {
     "name": "stdout",
     "output_type": "stream",
     "text": [
      "20\n",
      "70\n"
     ]
    }
   ],
   "source": [
    "#3\n",
    "import numpy as np\n",
    "arr = np.array([[10, 20, 30], \n",
    "                [40, 50, 60], \n",
    "                [70, 80, 90]])\n",
    "print(arr[0,1])\n",
    "print(arr[2,0])\n"
   ]
  },
  {
   "cell_type": "code",
   "execution_count": 27,
   "id": "f7122077-3658-4afe-b52f-3da4e6bedd79",
   "metadata": {},
   "outputs": [
    {
     "name": "stdout",
     "output_type": "stream",
     "text": [
      "[ 10.    13.75  17.5   21.25  25.    28.75  32.5   36.25  40.    43.75\n",
      "  47.5   51.25  55.    58.75  62.5   66.25  70.    73.75  77.5   81.25\n",
      "  85.    88.75  92.5   96.25 100.  ]\n",
      "Dimensions of the array: 1\n",
      "Shape of the array: (25,)\n",
      "Total number of elements: 25\n",
      "Data type of elements: float64\n",
      "Total bytes consumed by the array: 200\n",
      "Transposed arry:\n",
      " [[ 10.  ]\n",
      " [ 13.75]\n",
      " [ 17.5 ]\n",
      " [ 21.25]\n",
      " [ 25.  ]\n",
      " [ 28.75]\n",
      " [ 32.5 ]\n",
      " [ 36.25]\n",
      " [ 40.  ]\n",
      " [ 43.75]\n",
      " [ 47.5 ]\n",
      " [ 51.25]\n",
      " [ 55.  ]\n",
      " [ 58.75]\n",
      " [ 62.5 ]\n",
      " [ 66.25]\n",
      " [ 70.  ]\n",
      " [ 73.75]\n",
      " [ 77.5 ]\n",
      " [ 81.25]\n",
      " [ 85.  ]\n",
      " [ 88.75]\n",
      " [ 92.5 ]\n",
      " [ 96.25]\n",
      " [100.  ]]\n",
      "hello\n",
      "using t: [ 10.    13.75  17.5   21.25  25.    28.75  32.5   36.25  40.    43.75\n",
      "  47.5   51.25  55.    58.75  62.5   66.25  70.    73.75  77.5   81.25\n",
      "  85.    88.75  92.5   96.25 100.  ]\n"
     ]
    }
   ],
   "source": [
    "import numpy as np\n",
    "Manya = np.linspace(10, 100, 25)  \n",
    "print( Manya)\n",
    "print(\"Dimensions of the array:\", Manya.ndim)\n",
    "print(\"Shape of the array:\", Manya.shape)\n",
    "\n",
    "print(\"Total number of elements:\", Manya.size)\n",
    "print(\"Data type of elements:\", Manya.dtype)\n",
    "\n",
    "print(\"Total bytes consumed by the array:\", Manya.nbytes)\n",
    "\n",
    "print(\"Transposed arry:\\n\", Manya.reshape(25, 1))\n",
    "print('hello')\n",
    "print(\"using t:\", Manya.T)"
   ]
  },
  {
   "cell_type": "code",
   "execution_count": 42,
   "id": "28e04e82-bf24-4c96-8235-20afab63a7c5",
   "metadata": {},
   "outputs": [
    {
     "name": "stdout",
     "output_type": "stream",
     "text": [
      "[[10 20 30 40]\n",
      " [50 60 70 80]\n",
      " [90 15 20 35]]\n",
      "43.333333333333336\n",
      "37.5\n",
      "[10 15 20 30 35 40 50 60 70 80 90]\n",
      "10\n",
      "90\n",
      "[[10 20 30]\n",
      " [40 50 60]\n",
      " [70 80 90]\n",
      " [15 20 35]]\n",
      "[[10 20 30]\n",
      " [40 50 60]]\n"
     ]
    }
   ],
   "source": [
    "#5\n",
    "import numpy as np\n",
    "ucs420_Manya = np.array([[10, 20, 30, 40], \n",
    "                             [50, 60, 70, 80], \n",
    "                             [90, 15, 20, 35]])\n",
    "print( ucs420_Manya)\n",
    "print(np.mean(ucs420_Manya))\n",
    "print(np.median(ucs420_Manya))\n",
    "\n",
    "print(np.unique(ucs420_Manya))\n",
    "print(np.min(ucs420_Manya))\n",
    "print(np.max(ucs420_Manya))\n",
    "\n",
    "print(ucs420_Manya.reshape(4,3))\n",
    "print(np.resize(ucs420_Manya,(2,3)))"
   ]
  },
  {
   "cell_type": "code",
   "execution_count": null,
   "id": "7d807561-8cc4-41fb-8d40-f1428cd1a653",
   "metadata": {},
   "outputs": [],
   "source": []
  },
  {
   "cell_type": "code",
   "execution_count": null,
   "id": "b8ac772c-7f87-45eb-9bce-86e8a1a9ce99",
   "metadata": {},
   "outputs": [],
   "source": []
  }
 ],
 "metadata": {
  "kernelspec": {
   "display_name": "Python [conda env:base] *",
   "language": "python",
   "name": "conda-base-py"
  },
  "language_info": {
   "codemirror_mode": {
    "name": "ipython",
    "version": 3
   },
   "file_extension": ".py",
   "mimetype": "text/x-python",
   "name": "python",
   "nbconvert_exporter": "python",
   "pygments_lexer": "ipython3",
   "version": "3.12.7"
  }
 },
 "nbformat": 4,
 "nbformat_minor": 5
}
